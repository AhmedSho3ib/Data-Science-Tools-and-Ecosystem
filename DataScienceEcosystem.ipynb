{
 "cells": [
  {
   "cell_type": "markdown",
   "id": "1e1cf282-e335-48c4-8216-ca25c4485bef",
   "metadata": {},
   "source": [
    "# Data Science Tools and Ecosystem"
   ]
  },
  {
   "cell_type": "markdown",
   "id": "0da21807-8419-4bc3-9e4d-99535461cca0",
   "metadata": {},
   "source": [
    "In this notebook, Data Science Tools and Ecosystem are summarized."
   ]
  },
  {
   "cell_type": "markdown",
   "id": "4cdb1f6c-071d-4bcf-88d9-6611c777e88b",
   "metadata": {},
   "source": [
    "**Objectives:**\n",
    "* Popular Languages for Data Science\n",
    "* commonly used libraries by Data Scientists\n",
    "* Open Source Development Environment for Data Science"
   ]
  },
  {
   "cell_type": "markdown",
   "id": "1b6b2ecd-d071-4b0d-900b-dfd8716fc6ba",
   "metadata": {},
   "source": [
    "Some of the popular languages that Data Scientists use are:\n",
    "1. python\n",
    "2. R \n",
    "3. SQL"
   ]
  },
  {
   "cell_type": "markdown",
   "id": "078b6504-efa7-41c7-8442-7fdd035bca5d",
   "metadata": {},
   "source": [
    "Some of the commonly used libraries used by Data Scientists include:\n",
    "###### a) Scientific Computing :\n",
    "1. Pandas (Data Strucure and tools)\n",
    "2. Numpy  (Arrays and Matricies)\n",
    "###### b) Visualization Libraries :\n",
    "1. Matplotlib (Plots and graphs , most popular)\n",
    "2. Seaborn    (Plots : heat maps , time series , violin Plots\n",
    "###### c) Machine Learning and Deep Learning :\n",
    "1. Scikit-learn (Machine Learning : regression , classification clustering)\n",
    "2. Kears        (Deep Learning : Neural Networks)\n",
    "3. Tensor flow  (Deep Learning : Production and deployment)\n",
    "4. PyTorch      (Deep Learning : regression and classification)"
   ]
  },
  {
   "cell_type": "markdown",
   "id": "3d295a9f-82a3-42f8-bf2e-c58772d3ba01",
   "metadata": {},
   "source": [
    "### Open Source Development Environment tools used in data science :"
   ]
  },
  {
   "cell_type": "markdown",
   "id": "a7de7a38-3e8a-4b25-835a-8ef62bf5eb7d",
   "metadata": {},
   "source": [
    "|Data Science Tools|\n",
    "|------------------|\n",
    "|Jupyter Notebooks|\n",
    "|RStudio|\n",
    "|Apache Zeppelin|"
   ]
  },
  {
   "cell_type": "markdown",
   "id": "cd9fd7a9-3722-4ba3-8f10-6eb10c5dd984",
   "metadata": {},
   "source": [
    "### Below are a few examples of evaluating arithmetic expressions in Python: "
   ]
  },
  {
   "cell_type": "code",
   "execution_count": 9,
   "id": "68f7448d-619e-43f5-8a7b-0983542596cc",
   "metadata": {
    "tags": []
   },
   "outputs": [
    {
     "data": {
      "text/plain": [
       "17"
      ]
     },
     "execution_count": 9,
     "metadata": {},
     "output_type": "execute_result"
    }
   ],
   "source": [
    "(3*4)+5"
   ]
  },
  {
   "cell_type": "code",
   "execution_count": 10,
   "id": "370067dd-18fa-4482-b050-0640bcaf354e",
   "metadata": {
    "tags": []
   },
   "outputs": [
    {
     "name": "stdout",
     "output_type": "stream",
     "text": [
      "3.3333333333333335 H\n"
     ]
    }
   ],
   "source": [
    "# This will convert 200 minutes to hours by diving by 60 :\n",
    "print (200 / 60 , \"H\")"
   ]
  },
  {
   "cell_type": "markdown",
   "id": "f7a48521-3149-4c76-b0a4-79b9bf048e4b",
   "metadata": {},
   "source": [
    "## Author\n",
    "### Ahmed Shoaib"
   ]
  }
 ],
 "metadata": {
  "kernelspec": {
   "display_name": "Python 3 (ipykernel)",
   "language": "python",
   "name": "python3"
  },
  "language_info": {
   "codemirror_mode": {
    "name": "ipython",
    "version": 3
   },
   "file_extension": ".py",
   "mimetype": "text/x-python",
   "name": "python",
   "nbconvert_exporter": "python",
   "pygments_lexer": "ipython3",
   "version": "3.11.5"
  }
 },
 "nbformat": 4,
 "nbformat_minor": 5
}
